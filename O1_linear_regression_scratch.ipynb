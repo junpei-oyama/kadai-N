{
 "cells": [
  {
   "cell_type": "code",
   "execution_count": 1,
   "metadata": {
    "ExecuteTime": {
     "end_time": "2019-10-09T05:30:48.841851Z",
     "start_time": "2019-10-09T05:30:48.152850Z"
    }
   },
   "outputs": [],
   "source": [
    "import matplotlib.pyplot as plt\n",
    "import torch"
   ]
  },
  {
   "cell_type": "code",
   "execution_count": 2,
   "metadata": {
    "ExecuteTime": {
     "end_time": "2019-10-09T05:30:48.853824Z",
     "start_time": "2019-10-09T05:30:48.843850Z"
    }
   },
   "outputs": [],
   "source": [
    "\"\"\"\n",
    "線形回帰を勾配降下法で解く(スクラッチ実装)\n",
    "\"\"\"\n",
    "\n",
    "# 乱数を固定\n",
    "torch.manual_seed(0)\n",
    "\n",
    "# 真の重み\n",
    "w_true = torch.tensor([1., 2., 3.])"
   ]
  },
  {
   "cell_type": "code",
   "execution_count": 3,
   "metadata": {
    "ExecuteTime": {
     "end_time": "2019-10-09T05:30:48.871775Z",
     "start_time": "2019-10-09T05:30:48.857812Z"
    }
   },
   "outputs": [
    {
     "name": "stdout",
     "output_type": "stream",
     "text": [
      "torch.Size([100, 3])\n"
     ]
    }
   ],
   "source": [
    "# データの準備\n",
    "N = 100\n",
    "X = torch.cat([torch.ones(N, 1),\n",
    "               torch.randn((N, 2))\n",
    "              ], dim=1)\n",
    "print(X.size())\n",
    "\n",
    "noise = torch.randn(N) * 0.5\n",
    "y = torch.mv(X, w_true) + noise"
   ]
  },
  {
   "cell_type": "code",
   "execution_count": 4,
   "metadata": {
    "ExecuteTime": {
     "end_time": "2019-10-09T05:30:48.882744Z",
     "start_time": "2019-10-09T05:30:48.874767Z"
    }
   },
   "outputs": [
    {
     "name": "stdout",
     "output_type": "stream",
     "text": [
      "torch.Size([3])\n"
     ]
    }
   ],
   "source": [
    "# 重みの初期化\n",
    "w = torch.randn(w_true.size(0), requires_grad=True)\n",
    "print(w.size())"
   ]
  },
  {
   "cell_type": "code",
   "execution_count": 5,
   "metadata": {
    "ExecuteTime": {
     "end_time": "2019-10-09T05:30:48.925629Z",
     "start_time": "2019-10-09T05:30:48.886737Z"
    }
   },
   "outputs": [
    {
     "name": "stdout",
     "output_type": "stream",
     "text": [
      "Epoch1: w= tensor([ 0.7308, -0.0440,  1.1634], requires_grad=True) dL/dw = tensor([-0.3752, -3.9382, -4.8141])\n",
      "Epoch2: w= tensor([0.7683, 0.3499, 1.6448], requires_grad=True) dL/dw = tensor([-0.3406, -3.1497, -3.6396])\n",
      "Epoch3: w= tensor([0.8023, 0.6648, 2.0088], requires_grad=True) dL/dw = tensor([-0.3037, -2.5266, -2.7458])\n",
      "Epoch4: w= tensor([0.8327, 0.9175, 2.2834], requires_grad=True) dL/dw = tensor([-0.2670, -2.0330, -2.0664])\n",
      "Epoch5: w= tensor([0.8594, 1.1208, 2.4900], requires_grad=True) dL/dw = tensor([-0.2322, -1.6411, -1.5507])\n"
     ]
    }
   ],
   "source": [
    "# 学習\n",
    "learning_rate = 0.1\n",
    "\n",
    "loss_list = []\n",
    "num_epochs = 5\n",
    "\n",
    "for epoch in range(1, num_epochs + 1):\n",
    "    # 前epochでの backward() で計算された勾配を初期化\n",
    "    # backward()するまで w.grad は None\n",
    "    w.grad = None\n",
    "    \n",
    "    # 予測の計算\n",
    "    y_pred = torch.mv(X, w)\n",
    "    \n",
    "    mse_loss = torch.mean((y - y_pred) ** 2)\n",
    "    mse_loss.backward()\n",
    "    \n",
    "    # .item() は１つの要素「だけ」のtensorの値をとってくる\n",
    "    # 複数要素に使うと⇒ValueError: only one elements tensors can be converted to Python scalars\n",
    "    assert isinstance(mse_loss.item(), float)\n",
    "    loss_list.append(mse_loss.item())\n",
    "    \n",
    "    # 勾配の確認\n",
    "    print(f'Epoch{epoch}: w= {w} dL/dw = {w.grad}')\n",
    "    \n",
    "    # 勾配の更新\n",
    "    w.data = w - learning_rate * w.grad.data"
   ]
  },
  {
   "cell_type": "code",
   "execution_count": 6,
   "metadata": {
    "ExecuteTime": {
     "end_time": "2019-10-09T05:30:49.155011Z",
     "start_time": "2019-10-09T05:30:48.928622Z"
    }
   },
   "outputs": [
    {
     "data": {
      "image/png": "[encoded data removed]",
      "text/plain": [
       "<Figure size 432x288 with 1 Axes>"
      ]
     },
     "metadata": {
      "needs_background": "light"
     },
     "output_type": "display_data"
    }
   ],
   "source": [
    "# 損失の可視化\n",
    "plt.plot(loss_list)\n",
    "plt.xlabel('Epoch')\n",
    "plt.ylabel('MSE')\n",
    "plt.show()"
   ]
  },
  {
   "cell_type": "markdown",
   "metadata": {},
   "source": [
    "終わり"
   ]
  }
 ],
 "metadata": {
  "kernelspec": {
   "display_name": "Python 3",
   "language": "python",
   "name": "python3"
  },
  "language_info": {
   "codemirror_mode": {
    "name": "ipython",
    "version": 3
   },
   "file_extension": ".py",
   "mimetype": "text/x-python",
   "name": "python",
   "nbconvert_exporter": "python",
   "pygments_lexer": "ipython3",
   "version": "3.7.3"
  },
  "toc": {
   "base_numbering": 1,
   "nav_menu": {},
   "number_sections": true,
   "sideBar": true,
   "skip_h1_title": false,
   "title_cell": "Table of Contents",
   "title_sidebar": "Contents",
   "toc_cell": false,
   "toc_position": {},
   "toc_section_display": true,
   "toc_window_display": false
  }
 },
 "nbformat": 4,
 "nbformat_minor": 2
}
