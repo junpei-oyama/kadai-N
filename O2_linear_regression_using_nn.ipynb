{
 "cells": [
  {
   "cell_type": "code",
   "execution_count": 1,
   "metadata": {
    "ExecuteTime": {
     "end_time": "2019-10-09T04:15:59.562218Z",
     "start_time": "2019-10-09T04:15:59.020011Z"
    }
   },
   "outputs": [],
   "source": [
    "import matplotlib.pyplot as plt\n",
    "import torch\n",
    "from torch import nn, optim"
   ]
  },
  {
   "cell_type": "code",
   "execution_count": 2,
   "metadata": {
    "ExecuteTime": {
     "end_time": "2019-10-09T04:18:54.737833Z",
     "start_time": "2019-10-09T04:18:54.723898Z"
    }
   },
   "outputs": [],
   "source": [
    "\"\"\"\n",
    "線形回帰を勾配降下法で解く(nnモジュール利用)\n",
    "\"\"\"\n",
    "\n",
    "#乱数を固定\n",
    "torch.manual_seed(0)\n",
    "\n",
    "# 真の重み\n",
    "w_true = torch.tensor([1., 2., 3.])\n",
    "\n",
    "# データの準備\n",
    "N = 100\n",
    "X = torch.cat([torch.ones(N, 1),\n",
    "               torch.randn(N, 2)\n",
    "              ], dim=1)\n",
    "\n",
    "noise = torch.randn(N)* 0.5\n",
    "y = torch.mv(X, w_true) + noise"
   ]
  },
  {
   "cell_type": "code",
   "execution_count": 5,
   "metadata": {
    "ExecuteTime": {
     "end_time": "2019-10-09T04:33:16.079222Z",
     "start_time": "2019-10-09T04:33:16.063263Z"
    }
   },
   "outputs": [
    {
     "name": "stdout",
     "output_type": "stream",
     "text": [
      "[Parameter containing:\n",
      "tensor([[ 0.5760,  0.3665, -0.3991]], requires_grad=True)]\n"
     ]
    }
   ],
   "source": [
    "# 学習\n",
    "learning_rate = 0.1\n",
    "loss_list = []\n",
    "num_epochs = 100\n",
    "\n",
    "# ネットワーク / optimizer / criterion\n",
    "net = nn.Linear(in_features=3, out_features=1, bias=False) # 入力が３次元で出力が１次元のネットワーク\n",
    "optimizer = optim.SGD(net.parameters(), lr=learning_rate) # 確率的勾配降下法(SGD)による最適化を選択\n",
    "criterion = nn.MSELoss() # 損失関数は MeanSquaredError を採用\n",
    "\n",
    "# 重みは指定しなくても勝手に準備してくれる\n",
    "parameters = list(net.parameters())\n",
    "print(parameters)"
   ]
  },
  {
   "cell_type": "code",
   "execution_count": 7,
   "metadata": {
    "ExecuteTime": {
     "end_time": "2019-10-09T04:36:07.421479Z",
     "start_time": "2019-10-09T04:36:07.365577Z"
    }
   },
   "outputs": [],
   "source": [
    "for epoch in range(1, num_epochs + 1):\n",
    "    # 前epochでのbackward()で計算された勾配を初期化する\n",
    "    optimizer.zero_grad()\n",
    "    \n",
    "    # 予測の計算\n",
    "    y_pred = net(X)\n",
    "    \n",
    "    mse_loss = criterion(y_pred.view_as(y), y)\n",
    "    mse_loss.backward()\n",
    "    loss_list.append(mse_loss.item())\n",
    "    \n",
    "    # 勾配の更新\n",
    "    optimizer.step()"
   ]
  },
  {
   "cell_type": "code",
   "execution_count": 8,
   "metadata": {
    "ExecuteTime": {
     "end_time": "2019-10-09T04:36:58.288729Z",
     "start_time": "2019-10-09T04:36:58.101963Z"
    }
   },
   "outputs": [
    {
     "data": {
      "image/png": "[encoded data removed]",
      "text/plain": [
       "<Figure size 432x288 with 1 Axes>"
      ]
     },
     "metadata": {
      "needs_background": "light"
     },
     "output_type": "display_data"
    }
   ],
   "source": [
    "# 損失の可視化\n",
    "plt.plot(loss_list)\n",
    "plt.xlabel('Epoch')\n",
    "plt.ylabel('MSE')\n",
    "plt.show()"
   ]
  },
  {
   "cell_type": "code",
   "execution_count": null,
   "metadata": {},
   "outputs": [],
   "source": []
  }
 ],
 "metadata": {
  "kernelspec": {
   "display_name": "Python 3",
   "language": "python",
   "name": "python3"
  },
  "language_info": {
   "codemirror_mode": {
    "name": "ipython",
    "version": 3
   },
   "file_extension": ".py",
   "mimetype": "text/x-python",
   "name": "python",
   "nbconvert_exporter": "python",
   "pygments_lexer": "ipython3",
   "version": "3.7.3"
  },
  "toc": {
   "base_numbering": 1,
   "nav_menu": {},
   "number_sections": true,
   "sideBar": true,
   "skip_h1_title": false,
   "title_cell": "Table of Contents",
   "title_sidebar": "Contents",
   "toc_cell": false,
   "toc_position": {},
   "toc_section_display": true,
   "toc_window_display": false
  }
 },
 "nbformat": 4,
 "nbformat_minor": 2
}
