{
 "cells": [
  {
   "cell_type": "code",
   "execution_count": 1,
   "metadata": {
    "ExecuteTime": {
     "end_time": "2019-10-09T05:55:59.385006Z",
     "start_time": "2019-10-09T05:55:58.853465Z"
    }
   },
   "outputs": [],
   "source": [
    "import matplotlib.pyplot as plt\n",
    "import numpy as np\n",
    "import torch\n",
    "from sklearn.datasets import load_iris\n",
    "from torch import nn, optim"
   ]
  },
  {
   "cell_type": "code",
   "execution_count": 16,
   "metadata": {
    "ExecuteTime": {
     "end_time": "2019-10-09T07:23:49.373298Z",
     "start_time": "2019-10-09T07:23:49.357341Z"
    }
   },
   "outputs": [
    {
     "name": "stdout",
     "output_type": "stream",
     "text": [
      "X size: torch.Size([100, 4])\n",
      "y size: torch.Size([100])\n"
     ]
    }
   ],
   "source": [
    "\"\"\"\n",
    "２クラスのロジスティック回帰\n",
    "\"\"\"\n",
    "\n",
    "iris = load_iris()\n",
    "\n",
    "# irisデータの前方100個のみを使うことで、2クラス分類として考える\n",
    "X = torch.tensor(iris.data[:100], dtype=torch.float32)\n",
    "y = torch.tensor(iris.target[:100], dtype=torch.float32)\n",
    "\n",
    "# サイズ確認\n",
    "print(f'X size: {X.size()}')\n",
    "print(f'y size: {y.size()}')\n",
    "\n",
    "# model構築\n",
    "net = nn.Linear(in_features=4, out_features=1)\n",
    "criterion = nn.BCEWithLogitsLoss()  # 勝手にSigmoid関数の適用をしてくれるので若干罠\n",
    "optimizer = optim.SGD((net.parameters()), lr=0.25)"
   ]
  },
  {
   "cell_type": "code",
   "execution_count": 17,
   "metadata": {
    "ExecuteTime": {
     "end_time": "2019-10-09T07:23:49.866860Z",
     "start_time": "2019-10-09T07:23:49.804945Z"
    }
   },
   "outputs": [],
   "source": [
    "# 学習\n",
    "num_epochs = 100\n",
    "loss_list = []\n",
    "\n",
    "for epoch in range(1, num_epochs + 1):\n",
    "    optimizer.zero_grad()\n",
    "    \n",
    "    y_pred = net(X)\n",
    "    \n",
    "    loss = criterion(y_pred.view_as(y), y)\n",
    "    \n",
    "    # 勾配計算\n",
    "    loss.backward()\n",
    "    \n",
    "    loss_list.append(loss.item())\n",
    "    \n",
    "    optimizer.step()"
   ]
  },
  {
   "cell_type": "code",
   "execution_count": 18,
   "metadata": {
    "ExecuteTime": {
     "end_time": "2019-10-09T07:23:50.924890Z",
     "start_time": "2019-10-09T07:23:50.762515Z"
    }
   },
   "outputs": [
    {
     "data": {
      "image/png": "[encoded data removed]",
      "text/plain": [
       "<Figure size 432x288 with 1 Axes>"
      ]
     },
     "metadata": {
      "needs_background": "light"
     },
     "output_type": "display_data"
    }
   ],
   "source": [
    "# 損失の可視化\n",
    "plt.plot(loss_list)\n",
    "plt.xlabel('Epoch')\n",
    "plt.ylabel('Binary Cross Entropy')\n",
    "plt.show()"
   ]
  },
  {
   "cell_type": "code",
   "execution_count": 19,
   "metadata": {
    "ExecuteTime": {
     "end_time": "2019-10-09T07:23:51.917038Z",
     "start_time": "2019-10-09T07:23:51.902078Z"
    }
   },
   "outputs": [
    {
     "name": "stdout",
     "output_type": "stream",
     "text": [
      "tensor([0.0181, 0.0358, 0.0251, 0.0445, 0.0168, 0.0238, 0.0289, 0.0262, 0.0499,\n",
      "        0.0344, 0.0154, 0.0352, 0.0329, 0.0220, 0.0047, 0.0075, 0.0103, 0.0206,\n",
      "        0.0206, 0.0177, 0.0333, 0.0227, 0.0087, 0.0619, 0.0647, 0.0515, 0.0415,\n",
      "        0.0213, 0.0195, 0.0465, 0.0500, 0.0284, 0.0091, 0.0065, 0.0390, 0.0178,\n",
      "        0.0123, 0.0154, 0.0362, 0.0251, 0.0175, 0.0877, 0.0286, 0.0475, 0.0460,\n",
      "        0.0424, 0.0192, 0.0322, 0.0161, 0.0240, 0.9839, 0.9835, 0.9921, 0.9862,\n",
      "        0.9914, 0.9903, 0.9897, 0.9263, 0.9868, 0.9788, 0.9677, 0.9805, 0.9774,\n",
      "        0.9925, 0.9333, 0.9766, 0.9909, 0.9696, 0.9955, 0.9707, 0.9953, 0.9672,\n",
      "        0.9971, 0.9914, 0.9774, 0.9801, 0.9926, 0.9960, 0.9904, 0.9130, 0.9694,\n",
      "        0.9574, 0.9644, 0.9981, 0.9917, 0.9846, 0.9890, 0.9915, 0.9729, 0.9824,\n",
      "        0.9903, 0.9895, 0.9742, 0.9314, 0.9846, 0.9738, 0.9796, 0.9793, 0.8596,\n",
      "        0.9777], grad_fn=<ViewBackward>)\n",
      "[0 0 0 0 0 0 0 0 0 0 0 0 0 0 0 0 0 0 0 0 0 0 0 0 0 0 0 0 0 0 0 0 0 0 0 0 0\n",
      " 0 0 0 0 0 0 0 0 0 0 0 0 0 1 1 1 1 1 1 1 1 1 1 1 1 1 1 1 1 1 1 1 1 1 1 1 1\n",
      " 1 1 1 1 1 1 1 1 1 1 1 1 1 1 1 1 1 1 1 1 1 1 1 1 1 1]\n"
     ]
    }
   ],
   "source": [
    "# 予測確率の確認\n",
    "y_prob = torch.sigmoid(net(X))\n",
    "print(y_prob.view(-1, ))\n",
    "\n",
    "# 予測ラベルの確認\n",
    "labels_pred = (y_prob >= 0.5)\n",
    "print(labels_pred.numpy().astype(int).ravel())"
   ]
  },
  {
   "cell_type": "code",
   "execution_count": null,
   "metadata": {},
   "outputs": [],
   "source": []
  }
 ],
 "metadata": {
  "kernelspec": {
   "display_name": "Python 3",
   "language": "python",
   "name": "python3"
  },
  "language_info": {
   "codemirror_mode": {
    "name": "ipython",
    "version": 3
   },
   "file_extension": ".py",
   "mimetype": "text/x-python",
   "name": "python",
   "nbconvert_exporter": "python",
   "pygments_lexer": "ipython3",
   "version": "3.7.3"
  },
  "toc": {
   "base_numbering": 1,
   "nav_menu": {},
   "number_sections": true,
   "sideBar": true,
   "skip_h1_title": false,
   "title_cell": "Table of Contents",
   "title_sidebar": "Contents",
   "toc_cell": false,
   "toc_position": {},
   "toc_section_display": true,
   "toc_window_display": false
  }
 },
 "nbformat": 4,
 "nbformat_minor": 2
}
