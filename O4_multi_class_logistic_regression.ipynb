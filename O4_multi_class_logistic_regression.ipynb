{
 "cells": [
  {
   "cell_type": "code",
   "execution_count": 1,
   "metadata": {
    "ExecuteTime": {
     "end_time": "2019-10-09T06:35:22.227024Z",
     "start_time": "2019-10-09T06:35:21.682209Z"
    }
   },
   "outputs": [],
   "source": [
    "import matplotlib.pyplot as plt\n",
    "import torch\n",
    "from sklearn.datasets import load_digits\n",
    "from torch import nn, optim"
   ]
  },
  {
   "cell_type": "code",
   "execution_count": 5,
   "metadata": {
    "ExecuteTime": {
     "end_time": "2019-10-09T06:46:37.102518Z",
     "start_time": "2019-10-09T06:46:36.960500Z"
    }
   },
   "outputs": [
    {
     "name": "stdout",
     "output_type": "stream",
     "text": [
      "X size: torch.Size([1797, 64])\n",
      "y size: torch.Size([1797])\n"
     ]
    }
   ],
   "source": [
    "\"\"\"\n",
    "多クラスのロジスティック回帰\n",
    "\"\"\"\n",
    "\n",
    "torch.manual_seed(0)\n",
    "digits = load_digits()\n",
    "\n",
    "X = torch.tensor(digits.data, dtype=torch.float32)\n",
    "y = torch.tensor(digits.target, dtype=torch.int64)  # CrossEntropyLossはtorch.int64を受け取る\n",
    "\n",
    "# サイズ確認\n",
    "print(f'X size: {X.size()}')\n",
    "print(f'y size: {y.size()}')\n",
    "\n",
    "# model\n",
    "net = nn.Linear(in_features=64, out_features=10)\n",
    "criterion = nn.CrossEntropyLoss()  # 勝手にSoftmaxしてくれるので若干罠\n",
    "optimizer = optim.SGD((net.parameters()), lr=0.01)"
   ]
  },
  {
   "cell_type": "code",
   "execution_count": 6,
   "metadata": {
    "ExecuteTime": {
     "end_time": "2019-10-09T06:46:38.111135Z",
     "start_time": "2019-10-09T06:46:37.897347Z"
    }
   },
   "outputs": [],
   "source": [
    "# 学習\n",
    "num_epochs = 100\n",
    "loss_list = []\n",
    "\n",
    "for epoch in range(1, num_epochs + 1):\n",
    "    optimizer.zero_grad()\n",
    "    \n",
    "    y_pred = net(X)\n",
    "    \n",
    "    loss = criterion(y_pred, y)\n",
    "    \n",
    "    #勾配計算\n",
    "    loss.backward()\n",
    "    \n",
    "    loss_list.append(loss.item())\n",
    "    \n",
    "    optimizer.step()"
   ]
  },
  {
   "cell_type": "code",
   "execution_count": 7,
   "metadata": {
    "ExecuteTime": {
     "end_time": "2019-10-09T06:47:55.098610Z",
     "start_time": "2019-10-09T06:47:54.906537Z"
    }
   },
   "outputs": [
    {
     "data": {
      "image/png": "[encoded data removed]",
      "text/plain": [
       "<Figure size 432x288 with 1 Axes>"
      ]
     },
     "metadata": {
      "needs_background": "light"
     },
     "output_type": "display_data"
    }
   ],
   "source": [
    "# 損失の可視化\n",
    "plt.plot(loss_list)\n",
    "plt.xlabel('Epoch')\n",
    "plt.ylabel('Binary Cross Entropy')\n",
    "plt.show()"
   ]
  },
  {
   "cell_type": "code",
   "execution_count": 8,
   "metadata": {
    "ExecuteTime": {
     "end_time": "2019-10-09T06:54:33.228492Z",
     "start_time": "2019-10-09T06:54:33.205553Z"
    }
   },
   "outputs": [
    {
     "name": "stdout",
     "output_type": "stream",
     "text": [
      "torch.Size([1797, 10])\n",
      "tensor([0, 1, 2,  ..., 8, 9, 8])\n",
      "Correct: 1699(0.945)\n"
     ]
    }
   ],
   "source": [
    "# 予測確率の確認\n",
    "output = net(X)\n",
    "print(output.size())\n",
    "\n",
    "# 予測ラベルの計算\n",
    "# torch.max()は最大値以外と、位置も計算するよ\n",
    "_, labels_pred = torch.max(output, dim=1)\n",
    "print(labels_pred)\n",
    "\n",
    "# 正答数\n",
    "correct_num = (y == labels_pred).sum().item()\n",
    "print(f'Correct: {correct_num}({(correct_num / len(y)):.3f})')"
   ]
  },
  {
   "cell_type": "code",
   "execution_count": null,
   "metadata": {},
   "outputs": [],
   "source": []
  }
 ],
 "metadata": {
  "kernelspec": {
   "display_name": "Python 3",
   "language": "python",
   "name": "python3"
  },
  "language_info": {
   "codemirror_mode": {
    "name": "ipython",
    "version": 3
   },
   "file_extension": ".py",
   "mimetype": "text/x-python",
   "name": "python",
   "nbconvert_exporter": "python",
   "pygments_lexer": "ipython3",
   "version": "3.7.3"
  },
  "toc": {
   "base_numbering": 1,
   "nav_menu": {},
   "number_sections": true,
   "sideBar": true,
   "skip_h1_title": false,
   "title_cell": "Table of Contents",
   "title_sidebar": "Contents",
   "toc_cell": false,
   "toc_position": {},
   "toc_section_display": true,
   "toc_window_display": false
  }
 },
 "nbformat": 4,
 "nbformat_minor": 2
}
